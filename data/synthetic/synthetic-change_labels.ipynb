{
 "cells": [
  {
   "cell_type": "markdown",
   "metadata": {},
   "source": [
    "# Synthetic data\n",
    "\n",
    "## Write to disk"
   ]
  },
  {
   "cell_type": "code",
   "execution_count": 8,
   "metadata": {},
   "outputs": [],
   "source": [
    "def write_libsvm(filename, labels, features):\n",
    "    with open(filename, \"w\") as f:\n",
    "        for label, feature in zip(labels, features):\n",
    "            feature = enumerate(feature)\n",
    "            feature = filter(lambda t: t[1] != 0.0, feature)\n",
    "            feature = map(lambda t: \"{}:{}\".format(t[0], t[1]), feature)\n",
    "            f.write(\"{} {}\\n\".format(label, ' '.join(feature)))\n",
    "\n",
    "\n",
    "def write_pickle(filename, n, m):\n",
    "    fp = np.memmap(filename, dtype=np.bool_, mode='w+', shape=(n, m + 1))\n",
    "    fp[:, :] = data[:, :]"
   ]
  },
  {
   "cell_type": "code",
   "execution_count": 46,
   "metadata": {},
   "outputs": [],
   "source": [
    "import numpy as np\n",
    "from scipy import sparse\n",
    "from random import random\n",
    "\n",
    "\n",
    "n, m = 1000000, 100\n",
    "n_test = int(n * 0.01)\n",
    "labels, features, t_labels, t_features = [None] * 4\n",
    "\n",
    "def reset():\n",
    "    # balanced binary labels\n",
    "    global labels, features, t_labels, t_features\n",
    "    labels = (np.random.random(size=(n,)) > 0.5).astype(int)\n",
    "    features = (np.random.random(size=(n, m)) > 0.5).astype(int)\n",
    "    t_labels = (np.random.random(size=(n_test,)) > 0.5).astype(int)\n",
    "    t_features = (np.random.random(size=(n_test, m)) > 0.5).astype(int)"
   ]
  },
  {
   "cell_type": "markdown",
   "metadata": {
    "collapsed": true
   },
   "source": [
    "## One-level tree\n",
    "\n",
    "### Deterministic"
   ]
  },
  {
   "cell_type": "code",
   "execution_count": 59,
   "metadata": {},
   "outputs": [],
   "source": [
    "reset()\n",
    "for idx in [10, 20, 30]:\n",
    "    coin = int(random() * 2)\n",
    "    label = 1  # int(random() * 2)\n",
    "    index = features[:, idx] == coin\n",
    "    labels[index] = label\n",
    "    index = t_features[:, idx] == coin\n",
    "    t_labels[index] = label"
   ]
  },
  {
   "cell_type": "code",
   "execution_count": 60,
   "metadata": {},
   "outputs": [],
   "source": [
    "write_libsvm(\"deterministic.libsvm\", labels, features)\n",
    "write_libsvm(\"deterministic_test.libsvm\", t_labels, t_features)"
   ]
  },
  {
   "cell_type": "markdown",
   "metadata": {},
   "source": [
    "## Probabilistic"
   ]
  },
  {
   "cell_type": "code",
   "execution_count": 53,
   "metadata": {},
   "outputs": [],
   "source": [
    "SCALE = 0.3  # Weakness of the strongest weak rule\n",
    "\n",
    "reset()\n",
    "for idx in range(m):\n",
    "    prob = 0.5 + float(idx / m) * SCALE\n",
    "    coin = int(random() * 2)\n",
    "    label = int(random() * 2)\n",
    "\n",
    "    index = features[:, idx] == coin\n",
    "    p = (np.random.random(np.sum(index)) <= prob).astype(float)\n",
    "    labels[index] = p * coin + (1.0 - p) * (1.0 - coin)\n",
    "    index = t_features[:, idx] == coin\n",
    "    p = (np.random.random(np.sum(index)) <= prob).astype(float)\n",
    "    t_labels[index] = p * coin + (1.0 - p) * (1.0 - coin)"
   ]
  },
  {
   "cell_type": "code",
   "execution_count": 54,
   "metadata": {},
   "outputs": [],
   "source": [
    "write_libsvm(\"probabilistic.libsvm\", labels, features)\n",
    "write_libsvm(\"probabilistic_test.libsvm\", t_labels, t_features)"
   ]
  },
  {
   "cell_type": "markdown",
   "metadata": {
    "collapsed": true
   },
   "source": [
    "## Multi-level tree\n",
    "\n",
    "### Deterministic"
   ]
  },
  {
   "cell_type": "code",
   "execution_count": 61,
   "metadata": {},
   "outputs": [],
   "source": [
    "reset()\n",
    "for idx1, idx2 in [(10, 20), (30, 40), (50, 60), (70, 80)]:\n",
    "    coin1 = int(random() * 2)\n",
    "    coin2 = int(random() * 2)\n",
    "    label = 1  # int(random() * 2)\n",
    "    labels[\n",
    "        np.logical_and(features[:, idx1] == coin1, features[:, idx2] == coin2)\n",
    "    ] = label\n",
    "    t_labels[\n",
    "        np.logical_and(t_features[:, idx1] == coin1, t_features[:, idx2] == coin2)\n",
    "    ] = label"
   ]
  },
  {
   "cell_type": "code",
   "execution_count": 62,
   "metadata": {},
   "outputs": [],
   "source": [
    "write_libsvm(\"tree-deterministic.libsvm\", labels, features)\n",
    "write_libsvm(\"tree-deterministic_test.libsvm\", t_labels, t_features)"
   ]
  },
  {
   "cell_type": "markdown",
   "metadata": {},
   "source": [
    "## Probabilistic"
   ]
  },
  {
   "cell_type": "code",
   "execution_count": 57,
   "metadata": {},
   "outputs": [],
   "source": [
    "SCALE = 0.3\n",
    "\n",
    "reset()\n",
    "candid = list(range(m))\n",
    "for i in range(int(m / 4)):\n",
    "    rand = int(random() * len(candid))\n",
    "    idx1 = candid[rand]\n",
    "    del candid[rand]\n",
    "    rand = int(random() * len(candid))\n",
    "    idx2 = candid[rand]\n",
    "    del candid[rand]\n",
    "\n",
    "    coin1 = int(random() * 2)\n",
    "    coin2 = int(random() * 2)\n",
    "    label = int(random() * 2)\n",
    "    prob = 0.5 + float(i / m * 4.0) * SCALE\n",
    "    index = np.logical_and(features[:, idx1] == coin1, features[:, idx2] == coin2)\n",
    "    p = (np.random.random(np.sum(index)) <= prob).astype(float)\n",
    "    labels[index] = p * coin + (1.0 - p) * (1.0 - coin)\n",
    "    index = np.logical_and(t_features[:, idx1] == coin1, t_features[:, idx2] == coin2)\n",
    "    p = (np.random.random(np.sum(index)) <= prob).astype(float)\n",
    "    t_labels[index] = p * coin + (1.0 - p) * (1.0 - coin)"
   ]
  },
  {
   "cell_type": "code",
   "execution_count": 58,
   "metadata": {},
   "outputs": [],
   "source": [
    "write_libsvm(\"tree-probabilistic.libsvm\", labels, features)\n",
    "write_libsvm(\"tree-probabilistic_test.libsvm\", t_labels, t_features)"
   ]
  },
  {
   "cell_type": "code",
   "execution_count": null,
   "metadata": {},
   "outputs": [],
   "source": []
  }
 ],
 "metadata": {
  "kernelspec": {
   "display_name": "Python 3",
   "language": "python",
   "name": "python3"
  },
  "language_info": {
   "codemirror_mode": {
    "name": "ipython",
    "version": 3
   },
   "file_extension": ".py",
   "mimetype": "text/x-python",
   "name": "python",
   "nbconvert_exporter": "python",
   "pygments_lexer": "ipython3",
   "version": "3.6.3"
  }
 },
 "nbformat": 4,
 "nbformat_minor": 1
}
