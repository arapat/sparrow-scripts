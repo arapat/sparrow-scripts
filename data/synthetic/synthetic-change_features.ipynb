{
 "cells": [
  {
   "cell_type": "markdown",
   "metadata": {},
   "source": [
    "# Synthetic data\n",
    "\n",
    "## Write to disk"
   ]
  },
  {
   "cell_type": "code",
   "execution_count": 14,
   "metadata": {},
   "outputs": [],
   "source": [
    "def write_libsvm(filename, labels, features):\n",
    "    with open(filename, \"w\") as f:\n",
    "        for label, feature in zip(labels, features):\n",
    "            feature = enumerate(feature)\n",
    "            feature = filter(lambda t: t[1] != 0.0, feature)\n",
    "            feature = map(lambda t: \"%d:%d\" % (t[0], t[1]), feature)\n",
    "            f.write(str(label) + ' ' + ' '.join(feature) + '\\n')\n",
    "\n",
    "\n",
    "def write_pickle(filename, n, m):\n",
    "    fp = np.memmap(filename, dtype=np.bool_, mode='w+', shape=(n, m + 1))\n",
    "    fp[:, :] = data[:, :]"
   ]
  },
  {
   "cell_type": "code",
   "execution_count": 3,
   "metadata": {},
   "outputs": [],
   "source": [
    "import numpy as np\n",
    "from scipy import sparse\n",
    "from random import random\n",
    "\n",
    "\n",
    "n, m = 1000000, 100\n",
    "n_test = int(n * 0.01)\n",
    "labels, features, t_labels, t_features = [None] * 4\n",
    "\n",
    "def reset():\n",
    "    # balanced binary labels\n",
    "    global labels, features, t_labels, t_features\n",
    "    labels = (np.random.random(size=(n,)) > 0.5).astype(int)\n",
    "    features = (np.random.random(size=(n, m)) > 0.5).astype(int)\n",
    "    t_labels = (np.random.random(size=(n_test,)) > 0.5).astype(int)\n",
    "    t_features = (np.random.random(size=(n_test, m)) > 0.5).astype(int)"
   ]
  },
  {
   "cell_type": "markdown",
   "metadata": {
    "collapsed": true
   },
   "source": [
    "## One-level tree\n",
    "\n",
    "### Deterministic"
   ]
  },
  {
   "cell_type": "code",
   "execution_count": 3,
   "metadata": {},
   "outputs": [],
   "source": [
    "reset()\n",
    "for idx in [10, 20, 30]:\n",
    "    coin = int(random() * 2)\n",
    "    features[:, idx] = coin * labels + (1.0 - coin) * (1.0 - labels)\n",
    "    t_features[:, idx] = coin * t_labels + (1.0 - coin) * (1.0 - t_labels)"
   ]
  },
  {
   "cell_type": "code",
   "execution_count": 4,
   "metadata": {},
   "outputs": [],
   "source": [
    "write_libsvm(\"deterministic.libsvm\", labels, features)\n",
    "write_libsvm(\"deterministic_test.libsvm\", t_labels, t_features)"
   ]
  },
  {
   "cell_type": "markdown",
   "metadata": {},
   "source": [
    "## Probabilistic"
   ]
  },
  {
   "cell_type": "code",
   "execution_count": 5,
   "metadata": {},
   "outputs": [],
   "source": [
    "SCALE = 0.3  # Weakness of the strongest weak rule\n",
    "\n",
    "reset()\n",
    "for idx in range(m):\n",
    "    coin = int(random() * 2)\n",
    "    prob = 0.5 + float(idx / m) * SCALE\n",
    "\n",
    "    p = (np.random.random(np.sum(n)) <= prob).astype(float)  # noise\n",
    "    pcoin = p * coin + (1.0 - p) * (1.0 - coin)\n",
    "    features[:, idx] = pcoin * labels + (1.0 - pcoin) * (1.0 - labels)\n",
    "\n",
    "    p = (np.random.random(np.sum(n_test)) <= prob).astype(float)  # noise\n",
    "    pcoin = p * coin + (1.0 - p) * (1.0 - coin)\n",
    "    t_features[:, idx] = pcoin * t_labels + (1.0 - pcoin) * (1.0 - t_labels)"
   ]
  },
  {
   "cell_type": "code",
   "execution_count": 6,
   "metadata": {},
   "outputs": [],
   "source": [
    "write_libsvm(\"probabilistic.libsvm\", labels, features)\n",
    "write_libsvm(\"probabilistic_test.libsvm\", t_labels, t_features)"
   ]
  },
  {
   "cell_type": "markdown",
   "metadata": {
    "collapsed": true
   },
   "source": [
    "## Multi-level tree\n",
    "\n",
    "### Deterministic"
   ]
  },
  {
   "cell_type": "code",
   "execution_count": 18,
   "metadata": {},
   "outputs": [],
   "source": [
    "reset()\n",
    "for idx1, idx2, prob in [(10, 20, 0.05), (30, 40, 0.1), (50, 60, 0.2)]:\n",
    "    for num, x, y in [(n, features, labels), (n_test, t_features, t_labels)]:\n",
    "        left1 = np.logical_and(y == 1, np.random.random(num) <= 0.5 + prob)\n",
    "        left0 = np.logical_and(y == 0, np.random.random(num) <= 0.5 - prob)\n",
    "        left = np.logical_or(left1, left0)\n",
    "        right = np.logical_not(left)\n",
    "        right1 = np.logical_and(right, y == 1)\n",
    "        right0 = np.logical_and(right, y == 0)\n",
    "\n",
    "        x[left, idx1] = 0\n",
    "        x[left0, idx2] = 1\n",
    "        x[left1, idx2] = 0\n",
    "        x[right, idx1] = 1\n",
    "        x[right0, idx2] = 0\n",
    "        x[right1, idx2] = 1"
   ]
  },
  {
   "cell_type": "code",
   "execution_count": 13,
   "metadata": {},
   "outputs": [],
   "source": [
    "write_libsvm(\"tree-deterministic.libsvm\", labels, features)\n",
    "write_libsvm(\"tree-deterministic_test.libsvm\", t_labels, t_features)"
   ]
  },
  {
   "cell_type": "markdown",
   "metadata": {},
   "source": [
    "## Probabilistic"
   ]
  },
  {
   "cell_type": "code",
   "execution_count": 28,
   "metadata": {},
   "outputs": [
    {
     "name": "stdout",
     "output_type": "stream",
     "text": [
      "52\t0.0080\t92\t0.2960\n",
      "66\t0.0160\t4\t0.2920\n",
      "55\t0.0240\t34\t0.2880\n",
      "22\t0.0320\t35\t0.2840\n",
      "48\t0.0400\t15\t0.2800\n",
      "45\t0.0480\t70\t0.2760\n",
      "18\t0.0560\t75\t0.2720\n",
      "53\t0.0640\t79\t0.2680\n",
      "32\t0.0720\t89\t0.2640\n",
      "81\t0.0800\t28\t0.2600\n",
      "95\t0.0880\t13\t0.2560\n",
      "67\t0.0960\t49\t0.2520\n",
      "76\t0.1040\t71\t0.2480\n",
      "37\t0.1120\t93\t0.2440\n",
      "38\t0.1200\t29\t0.2400\n",
      "83\t0.1280\t23\t0.2360\n",
      "63\t0.1360\t33\t0.2320\n",
      "64\t0.1440\t82\t0.2280\n",
      "69\t0.1520\t62\t0.2240\n",
      "30\t0.1600\t91\t0.2200\n",
      "56\t0.1680\t17\t0.2160\n",
      "59\t0.1760\t77\t0.2120\n",
      "84\t0.1840\t86\t0.2080\n",
      "14\t0.1920\t42\t0.2040\n",
      "36\t0.2000\t90\t0.2000\n"
     ]
    }
   ],
   "source": [
    "SCALE1 = 0.2\n",
    "SCALE2 = 0.3\n",
    "\n",
    "reset()\n",
    "candid = list(range(m))\n",
    "for i in range(int(m / 4)):\n",
    "    rand = int(random() * len(candid))\n",
    "    idx1 = candid[rand]\n",
    "    del candid[rand]\n",
    "    rand = int(random() * len(candid))\n",
    "    idx2 = candid[rand]\n",
    "    del candid[rand]\n",
    "\n",
    "    prob1 = float((i + 1) / m * 4.0) * SCALE1\n",
    "    prob2 = SCALE1 + float(1.0 - (i + 1) / m * 4.0) * (SCALE2 - SCALE1)\n",
    "    print(\"{:d}\\t{:.4f}\\t{:d}\\t{:.4f}\".format(idx1, prob1, idx2, prob2), end='')\n",
    "    for num, x, y in [(n, features, labels), (n_test, t_features, t_labels)]:\n",
    "        left1 = np.logical_and(y == 1, np.random.random(num) <= 0.5 + prob1)\n",
    "        left0 = np.logical_and(y == 0, np.random.random(num) <= 0.5 - prob1)\n",
    "        left = np.logical_or(left1, left0)\n",
    "        right = np.logical_not(left)\n",
    "        right1 = np.logical_and(right, y == 1)\n",
    "        right0 = np.logical_and(right, y == 0)\n",
    "\n",
    "        x[left, idx1] = 0\n",
    "        x[left0, idx2] = np.random.random(np.sum(left0)) <= 0.5 + prob2\n",
    "        x[left1, idx2] = np.random.random(np.sum(left1)) <= 0.5 - prob2\n",
    "        x[right, idx1] = 1\n",
    "        x[right0, idx2] = np.random.random(np.sum(right0)) <= 0.5 - prob2\n",
    "        x[right1, idx2] = np.random.random(np.sum(right1)) <= 0.5 + prob2\n",
    "\n",
    "        # idx2pos = x[:, idx2] == 1\n",
    "        # idx2neg = x[:, idx2] == 0\n",
    "        # print(\"\\t{:.4f}\".format(np.sum(np.logical_and(left1, idx2pos)) / np.sum(left)), end='')\n",
    "    print()"
   ]
  },
  {
   "cell_type": "code",
   "execution_count": 29,
   "metadata": {},
   "outputs": [],
   "source": [
    "write_libsvm(\"tree-probabilistic.libsvm\", labels, features)\n",
    "write_libsvm(\"tree-probabilistic_test.libsvm\", t_labels, t_features)"
   ]
  },
  {
   "cell_type": "code",
   "execution_count": null,
   "metadata": {},
   "outputs": [],
   "source": []
  }
 ],
 "metadata": {
  "kernelspec": {
   "display_name": "Python 3",
   "language": "python",
   "name": "python3"
  },
  "language_info": {
   "codemirror_mode": {
    "name": "ipython",
    "version": 3
   },
   "file_extension": ".py",
   "mimetype": "text/x-python",
   "name": "python",
   "nbconvert_exporter": "python",
   "pygments_lexer": "ipython3",
   "version": "3.6.3"
  }
 },
 "nbformat": 4,
 "nbformat_minor": 1
}
