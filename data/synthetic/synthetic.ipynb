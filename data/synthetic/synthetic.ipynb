{
 "cells": [
  {
   "cell_type": "markdown",
   "metadata": {},
   "source": [
    "# Synthetic data\n",
    "\n",
    "## Write to disk"
   ]
  },
  {
   "cell_type": "code",
   "execution_count": 3,
   "metadata": {},
   "outputs": [],
   "source": [
    "def write_libsvm(filename, labels, features):\n",
    "    with open(filename, \"w\") as f:\n",
    "        for label, feature in zip(labels, features):\n",
    "            feature = enumerate(feature)\n",
    "            feature = filter(lambda t: t[1] != 0.0, feature)\n",
    "            feature = map(lambda t: \"{}:{}\".format(t[0], t[1]), feature)\n",
    "            f.write(\"{} {}\\n\".format(label, ' '.join(feature)))\n",
    "\n",
    "\n",
    "def write_pickle(filename, n, m):\n",
    "    fp = np.memmap(filename, dtype=np.bool_, mode='w+', shape=(n, m + 1))\n",
    "    fp[:, :] = data[:, :]"
   ]
  },
  {
   "cell_type": "code",
   "execution_count": 1,
   "metadata": {},
   "outputs": [],
   "source": [
    "import numpy as np\n",
    "from scipy import sparse\n",
    "\n",
    "\n",
    "n, m = 1000000, 100\n",
    "n_test = int(n * 0.01)\n",
    "# balanced binary labels\n",
    "labels = (np.random.random(size=(n,)) > 0.5).astype(int)\n",
    "features = (np.random.random(size=(n, m)) > 0.5).astype(int)\n",
    "t_labels = (np.random.random(size=(n_test,)) > 0.5).astype(int)\n",
    "t_features = (np.random.random(size=(n_test, m)) > 0.5).astype(int)"
   ]
  },
  {
   "cell_type": "markdown",
   "metadata": {
    "collapsed": true
   },
   "source": [
    "## One-level tree\n",
    "\n",
    "### Deterministic"
   ]
  },
  {
   "cell_type": "code",
   "execution_count": 2,
   "metadata": {},
   "outputs": [],
   "source": [
    "det_indices = [10, 20, 30]\n",
    "\n",
    "for idx in det_indices:\n",
    "    features[:, idx] = labels\n",
    "    t_features[:, idx] = t_labels"
   ]
  },
  {
   "cell_type": "code",
   "execution_count": 4,
   "metadata": {},
   "outputs": [],
   "source": [
    "# write_libsvm(\"deterministic.libsvm\", labels, features)\n",
    "write_libsvm(\"deterministic_test.libsvm\", t_labels, t_features)"
   ]
  },
  {
   "cell_type": "markdown",
   "metadata": {},
   "source": [
    "## Probabilistic"
   ]
  },
  {
   "cell_type": "code",
   "execution_count": 15,
   "metadata": {},
   "outputs": [],
   "source": [
    "SCALE = 0.25  # Weakness of the strongest weak rule\n",
    "for idx in range(m):\n",
    "    prob = 0.5 * (1.0 + idx / m) * SCALE\n",
    "    coin = (np.random.random(n) <= prob).astype(float)\n",
    "    features[:, idx] = coin * labels + (1.0 - coin) * (1.0 - labels)"
   ]
  },
  {
   "cell_type": "code",
   "execution_count": 16,
   "metadata": {},
   "outputs": [],
   "source": [
    "# write_libsvm(\"probabilistic.libsvm\", labels, features)"
   ]
  },
  {
   "cell_type": "code",
   "execution_count": null,
   "metadata": {
    "collapsed": true
   },
   "outputs": [],
   "source": []
  }
 ],
 "metadata": {
  "kernelspec": {
   "display_name": "Python 3",
   "language": "python",
   "name": "python3"
  },
  "language_info": {
   "codemirror_mode": {
    "name": "ipython",
    "version": 3
   },
   "file_extension": ".py",
   "mimetype": "text/x-python",
   "name": "python",
   "nbconvert_exporter": "python",
   "pygments_lexer": "ipython3",
   "version": "3.6.3"
  }
 },
 "nbformat": 4,
 "nbformat_minor": 1
}
