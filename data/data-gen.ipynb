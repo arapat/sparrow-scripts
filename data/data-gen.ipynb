{
 "cells": [
  {
   "cell_type": "code",
   "execution_count": 6,
   "metadata": {},
   "outputs": [],
   "source": [
    "import numpy as np\n",
    "\n",
    "base_dir = \"../../data/synthetic/\""
   ]
  },
  {
   "cell_type": "code",
   "execution_count": 9,
   "metadata": {},
   "outputs": [],
   "source": [
    "def gen_libsvm(filename, labels, features):\n",
    "    with open(filename, 'w') as f:\n",
    "        for label, feature in zip(labels, features):\n",
    "            f.write(\"{}\".format(label))\n",
    "            for idx, val in enumerate(feature):\n",
    "                if val:\n",
    "                    f.write(\" {}:{}\".format(idx, val))\n",
    "            f.write(\"\\n\")"
   ]
  },
  {
   "cell_type": "markdown",
   "metadata": {},
   "source": [
    "# Rules with one clause"
   ]
  },
  {
   "cell_type": "code",
   "execution_count": 12,
   "metadata": {},
   "outputs": [],
   "source": [
    "n, m = 100000, 50\n",
    "labels     = np.random.randint(2, size=(n,))\n",
    "features   = np.random.randint(2, size=(n, m))\n",
    "t_labels   = np.random.randint(2, size=(n,))\n",
    "t_features = np.random.randint(2, size=(n, m))\n",
    "\n",
    "k = 0.4\n",
    "for i in range(m):\n",
    "    k = max(k, 0.02)\n",
    "    pn = int(n * k)\n",
    "    choice = np.random.choice(n, size=pn, replace=False)\n",
    "    features[choice, i] = labels[choice]\n",
    "    t_features[choice, i] = t_labels[choice]\n",
    "    k -= 0.01\n",
    "gen_libsvm(base_dir + \"training.libsvm\", labels, features)\n",
    "gen_libsvm(base_dir + \"testing.libsvm\", t_labels, t_features)"
   ]
  },
  {
   "cell_type": "markdown",
   "metadata": {},
   "source": [
    "# Rules with two clauses"
   ]
  },
  {
   "cell_type": "code",
   "execution_count": 13,
   "metadata": {},
   "outputs": [],
   "source": [
    "n, m = 100000, 50\n",
    "labels     = np.random.randint(2, size=(n,))\n",
    "features   = np.random.randint(2, size=(n, m))\n",
    "t_labels   = np.random.randint(2, size=(n,))\n",
    "t_features = np.random.randint(2, size=(n, m))\n",
    "\n",
    "k = 0.4\n",
    "k2 = 0.8\n",
    "for i in range(m):\n",
    "    k = max(k, 0.02)\n",
    "    pn = int(n * k)\n",
    "    choice = np.random.choice(n, size=pn, replace=False)\n",
    "    features[choice, i] = labels[choice]\n",
    "    t_features[choice, i] = t_labels[choice]\n",
    "\n",
    "    k2 = max(k2, 0.02)\n",
    "    pn2 = int(n * k2)\n",
    "    j = np.random.randint(m)\n",
    "    choice2 = np.random.choice(n, size=pn2, replace=False)\n",
    "    features[choice2, j] = labels[choice2] - features[choice2, i]\n",
    "    t_features[choice2, j] = t_labels[choice2] - t_features[choice2, i]\n",
    "\n",
    "    k -= 0.01\n",
    "    k2 -= 0.01\n",
    "\n",
    "gen_libsvm(base_dir + \"training.libsvm\", labels, features)\n",
    "gen_libsvm(base_dir + \"testing.libsvm\", t_labels, t_features)"
   ]
  },
  {
   "cell_type": "code",
   "execution_count": 18,
   "metadata": {},
   "outputs": [],
   "source": []
  },
  {
   "cell_type": "code",
   "execution_count": null,
   "metadata": {},
   "outputs": [],
   "source": []
  }
 ],
 "metadata": {
  "kernelspec": {
   "display_name": "Python 3",
   "language": "python",
   "name": "python3"
  },
  "language_info": {
   "codemirror_mode": {
    "name": "ipython",
    "version": 3
   },
   "file_extension": ".py",
   "mimetype": "text/x-python",
   "name": "python",
   "nbconvert_exporter": "python",
   "pygments_lexer": "ipython3",
   "version": "3.7.2"
  }
 },
 "nbformat": 4,
 "nbformat_minor": 2
}
